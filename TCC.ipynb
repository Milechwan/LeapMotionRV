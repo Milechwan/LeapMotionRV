{
 "cells": [
  {
   "cell_type": "code",
   "execution_count": 1,
   "metadata": {},
   "outputs": [],
   "source": [
    "import numpy as numpy\n",
    "from scipy import stats\n",
    "import pandas as pd\n",
    "import math as math\n",
    "import os\n",
    "\n",
    "import matplotlib.pyplot as plt"
   ]
  },
  {
   "cell_type": "code",
   "execution_count": 2,
   "metadata": {},
   "outputs": [],
   "source": [
    "#tratar csv aqui\n",
    "csvMaoDireitaGoniometro = pd.read_csv(\"Dados Direita.csv\", skiprows=0)\n",
    "csvMaoEsquerdaGoniometro = pd.read_csv(\"Dados Esquerda.csv\",skiprows=0)\n",
    "#csv1 = pd.read_csv(\"0FemininoDireita17-49-35-11112018.csv\", skiprows=0)\n",
    "#csv2 = pd.read_csv(\"0FemininoDireita20-50-10-11112018.csv\", skiprows=0)\n",
    "nomes_arquivos = [f for f in os.listdir(\"dados TCC\") if f.endswith(\".csv\")]\n",
    "#print(len(nomes_arquivos))"
   ]
  },
  {
   "cell_type": "code",
   "execution_count": 3,
   "metadata": {},
   "outputs": [],
   "source": [
    "dataframes_esq = []\n",
    "dataframes_dir = []\n",
    "for arq in nomes_arquivos:\n",
    "    if \"Esquerda\" in arq:\n",
    "        dataframes_esq.append(pd.read_csv(\"dados TCC/\"+arq,skiprows=0))\n",
    "    elif \"Direita\" in arq: \n",
    "        dataframes_dir.append(pd.read_csv(\"dados TCC/\"+arq,skiprows=0))\n",
    "#print(str(len(dataframes_esq))+\", \"+str(len(dataframes_dir)))"
   ]
  },
  {
   "cell_type": "code",
   "execution_count": 5,
   "metadata": {
    "scrolled": true
   },
   "outputs": [
    {
     "data": {
      "text/html": [
       "<div>\n",
       "<style scoped>\n",
       "    .dataframe tbody tr th:only-of-type {\n",
       "        vertical-align: middle;\n",
       "    }\n",
       "\n",
       "    .dataframe tbody tr th {\n",
       "        vertical-align: top;\n",
       "    }\n",
       "\n",
       "    .dataframe thead th {\n",
       "        text-align: right;\n",
       "    }\n",
       "</style>\n",
       "<table border=\"1\" class=\"dataframe\">\n",
       "  <thead>\n",
       "    <tr style=\"text-align: right;\">\n",
       "      <th></th>\n",
       "      <th>Exercício</th>\n",
       "      <th>Dedo</th>\n",
       "      <th>Medidas</th>\n",
       "    </tr>\n",
       "  </thead>\n",
       "  <tbody>\n",
       "    <tr>\n",
       "      <th>0</th>\n",
       "      <td>Abdução</td>\n",
       "      <td>Indicador</td>\n",
       "      <td>0;8;12;16;12;10;0;6;10;6;11;10;7;7;8;10;0;0;0;...</td>\n",
       "    </tr>\n",
       "    <tr>\n",
       "      <th>1</th>\n",
       "      <td>Abdução</td>\n",
       "      <td>Médio</td>\n",
       "      <td>14;14;12;12;11;11;10;7;10;8;0;10;8;0;0;6;6;9;1...</td>\n",
       "    </tr>\n",
       "    <tr>\n",
       "      <th>2</th>\n",
       "      <td>Abdução</td>\n",
       "      <td>Anelar</td>\n",
       "      <td>15;12;7;7;8;9;7;10;10;11;12;9;12;10;10;0;6;8;1...</td>\n",
       "    </tr>\n",
       "    <tr>\n",
       "      <th>3</th>\n",
       "      <td>Abdução</td>\n",
       "      <td>Mindinho</td>\n",
       "      <td>14;12;10;14;12;14;15;12;9;7;10;12;4;4;11;10;0;...</td>\n",
       "    </tr>\n",
       "    <tr>\n",
       "      <th>4</th>\n",
       "      <td>Extensão</td>\n",
       "      <td>Indicador</td>\n",
       "      <td>21;16;12;16;13;21;26;20;24;20;12;12;11;10;10;1...</td>\n",
       "    </tr>\n",
       "    <tr>\n",
       "      <th>5</th>\n",
       "      <td>Extensão</td>\n",
       "      <td>Médio</td>\n",
       "      <td>24;22;20;15;15;16;24;22;22;18;14;12;12;10;16;0...</td>\n",
       "    </tr>\n",
       "    <tr>\n",
       "      <th>6</th>\n",
       "      <td>Extensão</td>\n",
       "      <td>Anelar</td>\n",
       "      <td>18;10;16;20;15;26;19;18;18;14;14;14;18;17;18;1...</td>\n",
       "    </tr>\n",
       "    <tr>\n",
       "      <th>7</th>\n",
       "      <td>Extensão</td>\n",
       "      <td>Mindinho</td>\n",
       "      <td>18;26;30;30;23;4;16;10;10;826;20;22;14;20;16;1...</td>\n",
       "    </tr>\n",
       "    <tr>\n",
       "      <th>8</th>\n",
       "      <td>Pinça</td>\n",
       "      <td>Indicador</td>\n",
       "      <td>68;60;56;48;65;50;53;52;51;56;54;62;64;48;66;6...</td>\n",
       "    </tr>\n",
       "    <tr>\n",
       "      <th>9</th>\n",
       "      <td>Pinça</td>\n",
       "      <td>Médio</td>\n",
       "      <td>46;42;53;68;68;49;50;55;48;48;67;78;70;70;70;5...</td>\n",
       "    </tr>\n",
       "    <tr>\n",
       "      <th>10</th>\n",
       "      <td>Pinça</td>\n",
       "      <td>Anelar</td>\n",
       "      <td>98;92;96;89;78;55;58;59;57;60;82;83;83;83;76;5...</td>\n",
       "    </tr>\n",
       "    <tr>\n",
       "      <th>11</th>\n",
       "      <td>Pinça</td>\n",
       "      <td>Mindinho</td>\n",
       "      <td>45;61;59;50;60;37;44;44;47;47;62;70;63;60;64;4...</td>\n",
       "    </tr>\n",
       "  </tbody>\n",
       "</table>\n",
       "</div>"
      ],
      "text/plain": [
       "   Exercício       Dedo                                            Medidas\n",
       "0    Abdução  Indicador  0;8;12;16;12;10;0;6;10;6;11;10;7;7;8;10;0;0;0;...\n",
       "1    Abdução      Médio  14;14;12;12;11;11;10;7;10;8;0;10;8;0;0;6;6;9;1...\n",
       "2    Abdução     Anelar  15;12;7;7;8;9;7;10;10;11;12;9;12;10;10;0;6;8;1...\n",
       "3    Abdução   Mindinho  14;12;10;14;12;14;15;12;9;7;10;12;4;4;11;10;0;...\n",
       "4   Extensão  Indicador  21;16;12;16;13;21;26;20;24;20;12;12;11;10;10;1...\n",
       "5   Extensão      Médio  24;22;20;15;15;16;24;22;22;18;14;12;12;10;16;0...\n",
       "6   Extensão     Anelar  18;10;16;20;15;26;19;18;18;14;14;14;18;17;18;1...\n",
       "7   Extensão   Mindinho  18;26;30;30;23;4;16;10;10;826;20;22;14;20;16;1...\n",
       "8      Pinça  Indicador  68;60;56;48;65;50;53;52;51;56;54;62;64;48;66;6...\n",
       "9      Pinça      Médio  46;42;53;68;68;49;50;55;48;48;67;78;70;70;70;5...\n",
       "10     Pinça     Anelar  98;92;96;89;78;55;58;59;57;60;82;83;83;83;76;5...\n",
       "11     Pinça   Mindinho  45;61;59;50;60;37;44;44;47;47;62;70;63;60;64;4..."
      ]
     },
     "execution_count": 5,
     "metadata": {},
     "output_type": "execute_result"
    }
   ],
   "source": [
    "csvMaoDireitaGoniometro"
   ]
  },
  {
   "cell_type": "code",
   "execution_count": 4,
   "metadata": {},
   "outputs": [],
   "source": [
    "#definição de dicionários separados pelas mãos, que terão em separado também dicionários para os dedos e os exercícios\n",
    "dictMaoDireita = {\n",
    "    \"Indicador\":{\"Abdução\": [],\n",
    "                \"Extensão\": [],\n",
    "                \"Pinça\": []},\n",
    "    \"Médio\":{\"Abdução\": [],\n",
    "                \"Extensão\": [],\n",
    "                \"Pinça\": []},\n",
    "    \"Anelar\":{\n",
    "        \"Abdução\": [],\n",
    "        \"Extensão\": [],\n",
    "        \"Pinça\": []\n",
    "    },\n",
    "    \"Mindinho\":{\n",
    "        \"Abdução\": [],\n",
    "        \"Extensão\": [],\n",
    "        \"Pinça\": []\n",
    "    }\n",
    "}\n",
    "dictMaoEsquerda = {\n",
    "    \"Indicador\":{\n",
    "        \"Abdução\": [],\n",
    "        \"Extensão\": [],\n",
    "        \"Pinça\": []\n",
    "    },\n",
    "    \"Médio\":{\n",
    "        \"Abdução\": [],\n",
    "        \"Extensão\": [],\n",
    "        \"Pinça\": []\n",
    "    },\n",
    "    \"Anelar\":{\n",
    "        \"Abdução\": [],\n",
    "        \"Extensão\": [],\n",
    "        \"Pinça\": []\n",
    "    },\n",
    "    \"Mindinho\":{\n",
    "        \"Abdução\": [],\n",
    "        \"Extensão\": [],\n",
    "        \"Pinça\": []\n",
    "    }}\n",
    "\n",
    "dictEsquerdaGoniometro = {\n",
    "    \"Indicador\":{\n",
    "        \"Abdução\": [],\n",
    "        \"Extensão\": [],\n",
    "        \"Pinça\": []\n",
    "    },\n",
    "    \"Médio\":{\n",
    "        \"Abdução\": [],\n",
    "        \"Extensão\": [],\n",
    "        \"Pinça\": []\n",
    "    },\n",
    "    \"Anelar\":{\n",
    "        \"Abdução\": [],\n",
    "        \"Extensão\": [],\n",
    "        \"Pinça\": []\n",
    "    },\n",
    "    \"Mindinho\":{\n",
    "        \"Abdução\": [],\n",
    "        \"Extensão\": [],\n",
    "        \"Pinça\": []\n",
    "}}\n",
    "\n",
    "dictDireitaGoniometro = {\n",
    "    \"Indicador\":{\n",
    "        \"Abdução\": [],\n",
    "        \"Extensão\": [],\n",
    "        \"Pinça\": []\n",
    "    },\n",
    "    \"Médio\":{\n",
    "        \"Abdução\": [],\n",
    "        \"Extensão\": [],\n",
    "        \"Pinça\": []\n",
    "    },\n",
    "    \"Anelar\":{\n",
    "        \"Abdução\": [],\n",
    "        \"Extensão\": [],\n",
    "        \"Pinça\": []\n",
    "    },\n",
    "    \"Mindinho\":{\n",
    "        \"Abdução\": [],\n",
    "        \"Extensão\": [],\n",
    "        \"Pinça\": []\n",
    "}}"
   ]
  },
  {
   "cell_type": "code",
   "execution_count": 5,
   "metadata": {},
   "outputs": [],
   "source": [
    "#print(dataframes_esq[0].iloc[0]['Exercício'])\n",
    "def tipo_exercicio(e):\n",
    "    return{\n",
    "        'Abdução': 'Abdução',\n",
    "        'Adução/Abdução': 'Abdução',\n",
    "        'Extensão': 'Extensão',\n",
    "        'Pinça': 'Pinça'\n",
    "    }[e]\n",
    "\n",
    "def tratar_entrada(entrada):\n",
    "    splitVals = entrada.split(';')\n",
    "    if '' in splitVals:\n",
    "        splitVals.remove('')\n",
    "    retorna_array = []\n",
    "    for item in splitVals:\n",
    "        indice_parenteses = item.find('(') \n",
    "        if indice_parenteses > -1:\n",
    "            retorna_array.append(item[0:indice_parenteses])\n",
    "        else:\n",
    "            retorna_array.append(item)\n",
    "    retorna_array = numpy.array(map(float,retorna_array))\n",
    "    return retorna_array\n",
    "\n",
    "def preencher_dicionario(dicionario,mao,goni):\n",
    "    dados = []\n",
    "    if mao == \"e\" and not(goni):\n",
    "        dados = dataframes_esq\n",
    "    elif mao == \"d\" and not(goni):\n",
    "        dados = dataframes_dir\n",
    "    elif mao == \"e\" and goni:\n",
    "        dados.append(csvMaoEsquerdaGoniometro)\n",
    "    elif mao == \"d\" and goni:\n",
    "        dados.append(csvMaoDireitaGoniometro)\n",
    "        \n",
    "    for d in dados:\n",
    "        num_linhas = d.shape[0]\n",
    "        for indice in range(num_linhas):\n",
    "            guardaVal = d.iloc[indice]['Ângulos obtidos']\n",
    "            tipoExercicio = tipo_exercicio(str(d.iloc[indice]['Exercício']))\n",
    "            #print(tipoExercicio)\n",
    "            (dicionario[d.iloc[indice]['Dedo']][tipoExercicio]).append(tratar_entrada(guardaVal)) \n",
    "        "
   ]
  },
  {
   "cell_type": "code",
   "execution_count": 6,
   "metadata": {},
   "outputs": [],
   "source": [
    "\n",
    "preencher_dicionario(dictMaoDireita,\"d\",False)\n",
    "preencher_dicionario(dictMaoEsquerda,\"e\",False)\n",
    "preencher_dicionario(dictDireitaGoniometro,\"d\",True)\n",
    "preencher_dicionario(dictEsquerdaGoniometro,\"e\",True)\n",
    "#print(len(dictMaoDireita)+\", \"+len(dictMaoEsquerda)+\", \"+len(dictDireitaGoniometro)+\", \"+len(dictEsquerdaGoniometro))\n",
    "#print(str(len(dictDireitaGoniometro[\"Indicador\"][\"Pinça\"]))+\", \"+str(len(dictEsquerdaGoniometro[\"Indicador\"][\"Pinça\"])))"
   ]
  },
  {
   "cell_type": "code",
   "execution_count": 7,
   "metadata": {},
   "outputs": [],
   "source": [
    "def merge_arrays_dicionarios(dicionario):\n",
    "    #np_zero = numpy.array([float(0)])\n",
    "    for key, value in dicionario.iteritems():\n",
    "        for k, v in value.iteritems():\n",
    "            array_unico = []\n",
    "            for item in v:\n",
    "                #print(item)\n",
    "                #primeiro_item += v[i]\n",
    "                array_unico = numpy.concatenate((array_unico,item))\n",
    "            #print(k+\", \"+key)\n",
    "            #a = numpy.setdiff1d(array_unico,np_zero)\n",
    "            dicionario[key][k] = array_unico\n",
    "\n",
    "#merge_arrays_dicionarios(dictMaoDireita)"
   ]
  },
  {
   "cell_type": "code",
   "execution_count": 8,
   "metadata": {},
   "outputs": [],
   "source": [
    "#print(dictMaoDireita[\"Indicador\"][\"Pinça\"])    \n",
    "merge_arrays_dicionarios(dictMaoDireita)\n",
    "merge_arrays_dicionarios(dictMaoEsquerda)\n",
    "merge_arrays_dicionarios(dictEsquerdaGoniometro)\n",
    "merge_arrays_dicionarios(dictDireitaGoniometro)"
   ]
  },
  {
   "cell_type": "code",
   "execution_count": 9,
   "metadata": {},
   "outputs": [],
   "source": [
    "dictTabelaResultadosTesteDireita = {\n",
    "    \"Abdução\":{\n",
    "        \"Indicador\":{\"Média goniômetro\": 0, \"Média Leap\": 0, \"Valor crítico t\": 0, \"T calculado\": 0, \"p-valor\": 0},\n",
    "        \"Médio\":{\"Média goniômetro\": 0, \"Média Leap\": 0, \"Valor crítico t\": 0, \"T calculado\": 0, \"p-valor\": 0},\n",
    "        \"Anelar\":{\"Média goniômetro\": 0, \"Média Leap\": 0, \"Valor crítico t\": 0, \"T calculado\": 0, \"p-valor\": 0},\n",
    "        \"Mindinho\":{\"Média goniômetro\": 0, \"Média Leap\": 0, \"Valor crítico t\": 0, \"T calculado\": 0, \"p-valor\": 0}\n",
    "    },\n",
    "    \"Extensão\":{\n",
    "        \"Indicador\":{\"Média goniômetro\": 0, \"Média Leap\": 0, \"Valor crítico t\": 0, \"T calculado\": 0, \"p-valor\": 0},\n",
    "        \"Médio\":{\"Média goniômetro\": 0, \"Média Leap\": 0, \"Valor crítico t\": 0, \"T calculado\": 0, \"p-valor\": 0},\n",
    "        \"Anelar\":{\"Média goniômetro\": 0, \"Média Leap\": 0, \"Valor crítico t\": 0, \"T calculado\": 0, \"p-valor\": 0},\n",
    "        \"Mindinho\":{\"Média goniômetro\": 0, \"Média Leap\": 0, \"Valor crítico t\": 0, \"T calculado\": 0, \"p-valor\": 0}\n",
    "    },\n",
    "    \"Pinça\":{\n",
    "        \"Indicador\":{\"Média goniômetro\": 0, \"Média Leap\": 0, \"Valor crítico t\": 0, \"T calculado\": 0, \"p-valor\": 0},\n",
    "        \"Médio\":{\"Média goniômetro\": 0, \"Média Leap\": 0, \"Valor crítico t\": 0, \"T calculado\": 0, \"p-valor\": 0},\n",
    "        \"Anelar\":{\"Média goniômetro\": 0, \"Média Leap\": 0, \"Valor crítico t\": 0, \"T calculado\": 0, \"p-valor\": 0},\n",
    "        \"Mindinho\":{\"Média goniômetro\": 0, \"Média Leap\": 0, \"Valor crítico t\": 0, \"T calculado\": 0, \"p-valor\": 0}\n",
    "    }\n",
    "}\n",
    "dictTabelaResultadosTesteEsquerda = {\n",
    "    \"Abdução\":{\n",
    "        \"Indicador\":{\"Média goniômetro\": 0, \"Média Leap\": 0, \"Valor crítico t\": 0, \"T calculado\": 0, \"p-valor\": 0},\n",
    "        \"Médio\":{\"Média goniômetro\": 0, \"Média Leap\": 0, \"Valor crítico t\": 0, \"T calculado\": 0, \"p-valor\": 0},\n",
    "        \"Anelar\":{\"Média goniômetro\": 0, \"Média Leap\": 0, \"Valor crítico t\": 0, \"T calculado\": 0, \"p-valor\": 0},\n",
    "        \"Mindinho\":{\"Média goniômetro\": 0, \"Média Leap\": 0, \"Valor crítico t\": 0, \"T calculado\": 0, \"p-valor\": 0}\n",
    "    },\n",
    "    \"Extensão\":{\n",
    "        \"Indicador\":{\"Média goniômetro\": 0, \"Média Leap\": 0, \"Valor crítico t\": 0, \"T calculado\": 0, \"p-valor\": 0},\n",
    "        \"Médio\":{\"Média goniômetro\": 0, \"Média Leap\": 0, \"Valor crítico t\": 0, \"T calculado\": 0, \"p-valor\": 0},\n",
    "        \"Anelar\":{\"Média goniômetro\": 0, \"Média Leap\": 0, \"Valor crítico t\": 0, \"T calculado\": 0, \"p-valor\": 0},\n",
    "        \"Mindinho\":{\"Média goniômetro\": 0, \"Média Leap\": 0, \"Valor crítico t\": 0, \"T calculado\": 0, \"p-valor\": 0}\n",
    "    },\n",
    "    \"Pinça\":{\n",
    "        \"Indicador\":{\"Média goniômetro\": 0, \"Média Leap\": 0, \"Valor crítico t\": 0, \"T calculado\": 0, \"p-valor\": 0},\n",
    "        \"Médio\":{\"Média goniômetro\": 0, \"Média Leap\": 0, \"Valor crítico t\": 0, \"T calculado\": 0, \"p-valor\": 0},\n",
    "        \"Anelar\":{\"Média goniômetro\": 0, \"Média Leap\": 0, \"Valor crítico t\": 0, \"T calculado\": 0, \"p-valor\": 0},\n",
    "        \"Mindinho\":{\"Média goniômetro\": 0, \"Média Leap\": 0, \"Valor crítico t\": 0, \"T calculado\": 0, \"p-valor\": 0}\n",
    "    }\n",
    "}"
   ]
  },
  {
   "cell_type": "code",
   "execution_count": 10,
   "metadata": {},
   "outputs": [],
   "source": [
    "#cálculo de teste t para duas amostras independentes (medidas do leap x medidas do goniômetro)\n",
    "alfa = 0.05 #nível de confiança de 95%, alfa 5%\n",
    "def teste_t_duas_amostras(lista1,lista2):\n",
    "    media1 = lista1.mean()\n",
    "    media2 = lista2.mean()\n",
    "    #print(str(media1)+\", media2: \"+str(media2))\n",
    "    std1 = desvio_padrao_quad(lista1,media1)\n",
    "    std2 = desvio_padrao_quad(lista2,media2)\n",
    "    t = (media1 - media2)/math.sqrt((std1/len(lista1))+(std2/len(lista2)))\n",
    "    degreesFreedom = len(lista1)+len(lista2)-2\n",
    "    #valor crítico de t\n",
    "    valCrit = stats.t.ppf(1-alfa,degreesFreedom)\n",
    "    #p-valor\n",
    "    p = (1- stats.t.cdf(abs(t),degreesFreedom))*2\n",
    "    return t, p, valCrit, degreesFreedom, media1, media2 \n",
    "    #print(\"valor t: \"+str(t)+\"; valor crítico: \"+str(valCrit)+\"; p valor: \"+str(p))"
   ]
  },
  {
   "cell_type": "code",
   "execution_count": 72,
   "metadata": {},
   "outputs": [
    {
     "name": "stdout",
     "output_type": "stream",
     "text": [
      "Ttest_indResult(statistic=3.062759966094786, pvalue=0.0030451279571803063)\n",
      "(3.062759966094787, 0.0029561264573001456, 1.663420174869025, 83, 65.64152173913044, 59.07692307692308)\n"
     ]
    }
   ],
   "source": [
    "print(stats.ttest_ind(dictMaoDireita[\"Indicador\"][\"Pinça\"],dictDireitaGoniometro[\"Indicador\"][\"Pinça\"],equal_var = False))\n",
    "result = teste_t_duas_amostras(dictMaoDireita[\"Indicador\"][\"Pinça\"],dictDireitaGoniometro[\"Indicador\"][\"Pinça\"])\n",
    "print(result)"
   ]
  },
  {
   "cell_type": "code",
   "execution_count": 97,
   "metadata": {},
   "outputs": [
    {
     "data": {
      "text/plain": [
       "array([14., 12., 10., 14., 12., 14., 15., 12.,  9.,  7., 10., 12.,  4.,\n",
       "        4., 11., 10.,  8., 12., 18., 18., 18., 20., 15.,  8.,  8.,  4.,\n",
       "        9., 14., 15., 20., 16., 20., 15., 12., 12.])"
      ]
     },
     "execution_count": 97,
     "metadata": {},
     "output_type": "execute_result"
    }
   ],
   "source": [
    "dictDireitaGoniometro[\"Mindinho\"][\"Abdução\"]"
   ]
  },
  {
   "cell_type": "code",
   "execution_count": 11,
   "metadata": {},
   "outputs": [],
   "source": [
    "def calcular_testes(dictLeap,dictGoni, mao):\n",
    "    for dedo, exercicio in dictLeap.iteritems():\n",
    "        for e, valor in exercicio.iteritems():\n",
    "           \n",
    "            valor_t, valor_p, valCrit, grausLiberd, mediaL, mediaG = teste_t_duas_amostras(dictLeap[dedo][e],dictGoni[dedo][e])\n",
    "            if mao == \"Esquerda\":\n",
    "                dictTabelaResultadosTesteEsquerda[e][dedo][\"Média Leap\"] = mediaL\n",
    "                dictTabelaResultadosTesteEsquerda[e][dedo][\"Média goniômetro\"] = mediaG\n",
    "                dictTabelaResultadosTesteEsquerda[e][dedo][\"Valor crítico t\"] = valCrit\n",
    "                dictTabelaResultadosTesteEsquerda[e][dedo][\"T calculado\"] = valor_t\n",
    "                dictTabelaResultadosTesteEsquerda[e][dedo][\"p-valor\"] = valor_p\n",
    "            else:\n",
    "                dictTabelaResultadosTesteDireita[e][dedo][\"Média Leap\"] = mediaL\n",
    "                dictTabelaResultadosTesteDireita[e][dedo][\"Média goniômetro\"] = mediaG\n",
    "                dictTabelaResultadosTesteDireita[e][dedo][\"Valor crítico t\"] = valCrit\n",
    "                dictTabelaResultadosTesteDireita[e][dedo][\"T calculado\"] = valor_t\n",
    "                dictTabelaResultadosTesteDireita[e][dedo][\"p-valor\"] = valor_p\n",
    "\n",
    "#calcular_testes(dictMaoDireita,dictDireitaGoniometro,\"Direita\")"
   ]
  },
  {
   "cell_type": "code",
   "execution_count": 24,
   "metadata": {},
   "outputs": [
    {
     "data": {
      "image/png": "[encoded data removed]",
      "text/plain": [
       "<Figure size 432x288 with 1 Axes>"
      ]
     },
     "metadata": {},
     "output_type": "display_data"
    }
   ],
   "source": [
    "t_plot, p_plot, degFree = result[0], result[1], result[3]\n",
    "eixo_x = numpy.linspace(stats.t.ppf(alfa, degFree),stats.t.ppf(1-alfa,degFree),70)\n",
    "figure, ax = plt.subplots(1,1)\n",
    "ax.set_title(\"Pinca (dedo minimo)\")\n",
    "ax.plot(eixo_x,stats.t.pdf(eixo_x,degFree))\n",
    "plt.axvline(x=t_plot, color='#ff0000', label=\"t calculado\")\n",
    "ax.legend(loc='best')\n",
    "plt.show()"
   ]
  },
  {
   "cell_type": "code",
   "execution_count": 14,
   "metadata": {},
   "outputs": [],
   "source": [
    "calcular_testes(dictMaoDireita,dictDireitaGoniometro,\"Direita\")\n",
    "calcular_testes(dictMaoEsquerda,dictEsquerdaGoniometro,\"Esquerda\")"
   ]
  },
  {
   "cell_type": "code",
   "execution_count": 13,
   "metadata": {},
   "outputs": [],
   "source": [
    "def desvio_padrao_quad(lista,media):\n",
    "    somatorio=0\n",
    "    for var in lista:\n",
    "        somatorio += math.pow(var - media,2)\n",
    "    return somatorio/(len(lista)-1)\n",
    "    "
   ]
  },
  {
   "cell_type": "code",
   "execution_count": 15,
   "metadata": {},
   "outputs": [
    {
     "data": {
      "text/plain": [
       "{'Abdu\\xc3\\xa7\\xc3\\xa3o': {'Anelar': {'M\\xc3\\xa9dia Leap': 7.811111111111111,\n",
       "   'M\\xc3\\xa9dia goni\\xc3\\xb4metro': 11.13888888888889,\n",
       "   'T calculado': -2.8138136622646464,\n",
       "   'Valor cr\\xc3\\xadtico t': 1.6643714090726742,\n",
       "   'p-valor': 0.006175963586876776},\n",
       "  'Indicador': {'M\\xc3\\xa9dia Leap': 11.624,\n",
       "   'M\\xc3\\xa9dia goni\\xc3\\xb4metro': 10.26923076923077,\n",
       "   'T calculado': 1.4836142226510936,\n",
       "   'Valor cr\\xc3\\xadtico t': 1.6710930318274826,\n",
       "   'p-valor': 0.14323404427162578},\n",
       "  'Mindinho': {'M\\xc3\\xa9dia Leap': 11.177333333333333,\n",
       "   'M\\xc3\\xa9dia goni\\xc3\\xb4metro': 12.342857142857143,\n",
       "   'T calculado': -1.4371907116089164,\n",
       "   'Valor cr\\xc3\\xadtico t': 1.6646246444385238,\n",
       "   'p-valor': 0.15466329636765752},\n",
       "  'M\\xc3\\xa9dio': {'M\\xc3\\xa9dia Leap': 11.049000000000001,\n",
       "   'M\\xc3\\xa9dia goni\\xc3\\xb4metro': 9.84,\n",
       "   'T calculado': 1.9780208057803816,\n",
       "   'Valor cr\\xc3\\xadtico t': 1.6694022215079607,\n",
       "   'p-valor': 0.05230377640473427}},\n",
       " 'Extens\\xc3\\xa3o': {'Anelar': {'M\\xc3\\xa9dia Leap': 10.119428571428571,\n",
       "   'M\\xc3\\xa9dia goni\\xc3\\xb4metro': 15.694444444444445,\n",
       "   'T calculado': -8.104393432226805,\n",
       "   'Valor cr\\xc3\\xadtico t': 1.6672385485425922,\n",
       "   'p-valor': 1.2878587085651816e-11},\n",
       "  'Indicador': {'M\\xc3\\xa9dia Leap': 10.191428571428569,\n",
       "   'M\\xc3\\xa9dia goni\\xc3\\xb4metro': 15.447368421052632,\n",
       "   'T calculado': -5.486622519141914,\n",
       "   'Valor cr\\xc3\\xadtico t': 1.666599658219398,\n",
       "   'p-valor': 5.961162770073969e-07},\n",
       "  'Mindinho': {'M\\xc3\\xa9dia Leap': 10.834,\n",
       "   'M\\xc3\\xa9dia goni\\xc3\\xb4metro': 38.8235294117647,\n",
       "   'T calculado': -1.1718658481329507,\n",
       "   'Valor cr\\xc3\\xadtico t': 1.667916113961428,\n",
       "   'p-valor': 0.24540124091547288},\n",
       "  'M\\xc3\\xa9dio': {'M\\xc3\\xa9dia Leap': 11.095999999999998,\n",
       "   'M\\xc3\\xa9dia goni\\xc3\\xb4metro': 16.307692307692307,\n",
       "   'T calculado': -5.882553628105028,\n",
       "   'Valor cr\\xc3\\xadtico t': 1.6662936960297958,\n",
       "   'p-valor': 1.1713190728457334e-07}},\n",
       " 'Pin\\xc3\\xa7a': {'Anelar': {'M\\xc3\\xa9dia Leap': 78.94428571428571,\n",
       "   'M\\xc3\\xa9dia goni\\xc3\\xb4metro': 72.76470588235294,\n",
       "   'T calculado': 1.7733289995870791,\n",
       "   'Valor cr\\xc3\\xadtico t': 1.667916113961428,\n",
       "   'p-valor': 0.08071888409296513},\n",
       "  'Indicador': {'M\\xc3\\xa9dia Leap': 65.64152173913044,\n",
       "   'M\\xc3\\xa9dia goni\\xc3\\xb4metro': 59.07692307692308,\n",
       "   'T calculado': 3.062759966094787,\n",
       "   'Valor cr\\xc3\\xadtico t': 1.663420174869025,\n",
       "   'p-valor': 0.0029561264573001456},\n",
       "  'Mindinho': {'M\\xc3\\xa9dia Leap': 43.81057142857143,\n",
       "   'M\\xc3\\xa9dia goni\\xc3\\xb4metro': 51.65,\n",
       "   'T calculado': -1.1817468174197225,\n",
       "   'Valor cr\\xc3\\xadtico t': 1.665996223676495,\n",
       "   'p-valor': 0.24114154785218633},\n",
       "  'M\\xc3\\xa9dio': {'M\\xc3\\xa9dia Leap': 74.79714285714284,\n",
       "   'M\\xc3\\xa9dia goni\\xc3\\xb4metro': 57.95,\n",
       "   'T calculado': 5.5257047576306695,\n",
       "   'Valor cr\\xc3\\xadtico t': 1.665996223676495,\n",
       "   'p-valor': 4.807081321889228e-07}}}"
      ]
     },
     "execution_count": 15,
     "metadata": {},
     "output_type": "execute_result"
    }
   ],
   "source": [
    " dictTabelaResultadosTesteDireita"
   ]
  },
  {
   "cell_type": "code",
   "execution_count": 16,
   "metadata": {},
   "outputs": [],
   "source": [
    "dataframe_resultados1 = pd.DataFrame.from_dict(dictTabelaResultadosTesteDireita)\n",
    "dataframe_resultados2 = pd.DataFrame.from_dict(dictTabelaResultadosTesteEsquerda)\n"
   ]
  },
  {
   "cell_type": "code",
   "execution_count": 17,
   "metadata": {},
   "outputs": [],
   "source": [
    "dataframe_resultados1.to_csv(\"TesteTDireita.csv\", sep=',',encoding='utf-8')\n",
    "dataframe_resultados2.to_csv(\"TesteTEsquerda.csv\", sep=',',encoding='utf-8')"
   ]
  },
  {
   "cell_type": "code",
   "execution_count": 104,
   "metadata": {},
   "outputs": [
    {
     "ename": "ValueError",
     "evalue": "operands could not be broadcast together with shapes (45,) (35,) ",
     "output_type": "error",
     "traceback": [
      "\u001b[0;31m---------------------------------------------------------------------------\u001b[0m",
      "\u001b[0;31mValueError\u001b[0m                                Traceback (most recent call last)",
      "\u001b[0;32m<ipython-input-104-3d7052ee1b70>\u001b[0m in \u001b[0;36m<module>\u001b[0;34m()\u001b[0m\n\u001b[0;32m----> 1\u001b[0;31m \u001b[0mnumpy\u001b[0m\u001b[0;34m.\u001b[0m\u001b[0mmean\u001b[0m\u001b[0;34m(\u001b[0m\u001b[0;34m(\u001b[0m\u001b[0mdictMaoDireita\u001b[0m\u001b[0;34m[\u001b[0m\u001b[0;34m\"Mindinho\"\u001b[0m\u001b[0;34m]\u001b[0m\u001b[0;34m[\u001b[0m\u001b[0;34m\"Abdução\"\u001b[0m\u001b[0;34m]\u001b[0m\u001b[0;34m-\u001b[0m\u001b[0mdictDireitaGoniometro\u001b[0m\u001b[0;34m[\u001b[0m\u001b[0;34m\"Mindinho\"\u001b[0m\u001b[0;34m]\u001b[0m\u001b[0;34m[\u001b[0m\u001b[0;34m\"Abdução\"\u001b[0m\u001b[0;34m]\u001b[0m\u001b[0;34m)\u001b[0m\u001b[0;34m**\u001b[0m\u001b[0;36m2\u001b[0m\u001b[0;34m)\u001b[0m\u001b[0;34m\u001b[0m\u001b[0m\n\u001b[0m\u001b[1;32m      2\u001b[0m \u001b[0;31m#def calcular_mse(lista1,lista2):\u001b[0m\u001b[0;34m\u001b[0m\u001b[0;34m\u001b[0m\u001b[0m\n\u001b[1;32m      3\u001b[0m  \u001b[0;31m#   media1 = lista1.mean()\u001b[0m\u001b[0;34m\u001b[0m\u001b[0;34m\u001b[0m\u001b[0m\n\u001b[1;32m      4\u001b[0m  \u001b[0;31m#   media2 = lista2.mean()\u001b[0m\u001b[0;34m\u001b[0m\u001b[0;34m\u001b[0m\u001b[0m\n\u001b[1;32m      5\u001b[0m  \u001b[0;31m#   somatorio = 0\u001b[0m\u001b[0;34m\u001b[0m\u001b[0;34m\u001b[0m\u001b[0m\n",
      "\u001b[0;31mValueError\u001b[0m: operands could not be broadcast together with shapes (45,) (35,) "
     ]
    }
   ],
   "source": [
    "numpy.mean((dictMaoDireita[\"Mindinho\"][\"Abdução\"]-dictDireitaGoniometro[\"Mindinho\"][\"Abdução\"])**2)\n",
    "#def calcular_mse(lista1,lista2):\n",
    " #   media1 = lista1.mean()\n",
    " #   media2 = lista2.mean()\n",
    " #   somatorio = 0\n",
    " #   for i in lista"
   ]
  },
  {
   "cell_type": "code",
   "execution_count": null,
   "metadata": {},
   "outputs": [],
   "source": []
  }
 ],
 "metadata": {
  "kernelspec": {
   "display_name": "Python 2",
   "language": "python",
   "name": "python2"
  },
  "language_info": {
   "codemirror_mode": {
    "name": "ipython",
    "version": 2
   },
   "file_extension": ".py",
   "mimetype": "text/x-python",
   "name": "python",
   "nbconvert_exporter": "python",
   "pygments_lexer": "ipython2",
   "version": "2.7.12"
  }
 },
 "nbformat": 4,
 "nbformat_minor": 2
}
